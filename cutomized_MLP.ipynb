{
  "nbformat": 4,
  "nbformat_minor": 0,
  "metadata": {
    "colab": {
      "provenance": [],
      "gpuType": "V28",
      "authorship_tag": "ABX9TyMfcXmH2Ma+6RwxgXOUxloz",
      "include_colab_link": true
    },
    "kernelspec": {
      "name": "python3",
      "display_name": "Python 3"
    },
    "language_info": {
      "name": "python"
    },
    "accelerator": "TPU"
  },
  "cells": [
    {
      "cell_type": "markdown",
      "metadata": {
        "id": "view-in-github",
        "colab_type": "text"
      },
      "source": [
        "<a href=\"https://colab.research.google.com/github/nirajanacharya/AI-ML-DL-Hacktoberfest2024-WB/blob/temp/cutomized_MLP.ipynb\" target=\"_parent\"><img src=\"https://colab.research.google.com/assets/colab-badge.svg\" alt=\"Open In Colab\"/></a>"
      ]
    },
    {
      "cell_type": "code",
      "execution_count": 3,
      "metadata": {
        "id": "hBuThGC1KQkp"
      },
      "outputs": [],
      "source": [
        "import tensorflow as tf\n",
        "from tensorflow import keras\n",
        "import pandas as pd\n",
        "import numpy as np\n",
        "from sklearn.model_selection import train_test_split\n",
        "from imblearn.over_sampling import SMOTE\n",
        "import matplotlib.pyplot as plt\n",
        "from tensorflow.keras.models import Sequential\n",
        "from tensorflow.keras.layers import Dense\n",
        "from tensorflow.keras.models import Sequential\n",
        "from tensorflow.keras.layers import Dense"
      ]
    },
    {
      "cell_type": "code",
      "source": [
        "!pip install imbalanced-learn\n"
      ],
      "metadata": {
        "colab": {
          "base_uri": "https://localhost:8080/"
        },
        "id": "QbE0jIpwK1d1",
        "outputId": "b670ed37-d8ab-499b-b207-a917e0643a06"
      },
      "execution_count": 2,
      "outputs": [
        {
          "output_type": "stream",
          "name": "stdout",
          "text": [
            "Collecting imbalanced-learn\n",
            "  Downloading imbalanced_learn-0.12.4-py3-none-any.whl.metadata (8.3 kB)\n",
            "Requirement already satisfied: numpy>=1.17.3 in /usr/local/lib/python3.10/dist-packages (from imbalanced-learn) (1.26.4)\n",
            "Requirement already satisfied: scipy>=1.5.0 in /usr/local/lib/python3.10/dist-packages (from imbalanced-learn) (1.13.1)\n",
            "Requirement already satisfied: scikit-learn>=1.0.2 in /usr/local/lib/python3.10/dist-packages (from imbalanced-learn) (1.5.2)\n",
            "Requirement already satisfied: joblib>=1.1.1 in /usr/local/lib/python3.10/dist-packages (from imbalanced-learn) (1.4.2)\n",
            "Requirement already satisfied: threadpoolctl>=2.0.0 in /usr/local/lib/python3.10/dist-packages (from imbalanced-learn) (3.5.0)\n",
            "Downloading imbalanced_learn-0.12.4-py3-none-any.whl (258 kB)\n",
            "\u001b[2K   \u001b[90m━━━━━━━━━━━━━━━━━━━━━━━━━━━━━━━━━━━━━━━━\u001b[0m \u001b[32m258.3/258.3 kB\u001b[0m \u001b[31m5.0 MB/s\u001b[0m eta \u001b[36m0:00:00\u001b[0m\n",
            "\u001b[?25hInstalling collected packages: imbalanced-learn\n",
            "Successfully installed imbalanced-learn-0.12.4\n"
          ]
        }
      ]
    },
    {
      "cell_type": "code",
      "source": [
        "urldata = pd.read_csv(\"./Url_Processed.csv\")"
      ],
      "metadata": {
        "id": "igQx6vTNKf__"
      },
      "execution_count": 4,
      "outputs": []
    },
    {
      "cell_type": "code",
      "source": [
        "urldata.drop(\"Unnamed: 0\",axis=1,inplace=True)\n",
        "urldata.drop([\"url\",\"label\"],axis=1,inplace=True)"
      ],
      "metadata": {
        "id": "YcnxKZ4SK8bU"
      },
      "execution_count": 5,
      "outputs": []
    },
    {
      "cell_type": "code",
      "source": [
        "x = urldata[['hostname_length',\n",
        "       'path_length', 'fd_length', 'count-', 'count@', 'count?',\n",
        "       'count%', 'count.', 'count=', 'count-http','count-https', 'count-www', 'count-digits',\n",
        "       'count-letters', 'count_dir', 'use_of_ip']]"
      ],
      "metadata": {
        "id": "rdIXKzsJK_w7"
      },
      "execution_count": 6,
      "outputs": []
    },
    {
      "cell_type": "code",
      "source": [
        "y = urldata['result']"
      ],
      "metadata": {
        "id": "MG7pURWlLCNz"
      },
      "execution_count": 7,
      "outputs": []
    },
    {
      "cell_type": "code",
      "source": [
        "x_sample, y_sample = SMOTE().fit_resample(x, y.values.ravel())"
      ],
      "metadata": {
        "id": "ykgEANaOLEbc"
      },
      "execution_count": 8,
      "outputs": []
    },
    {
      "cell_type": "code",
      "source": [
        "x_sample = pd.DataFrame(x_sample)\n",
        "y_sample = pd.DataFrame(y_sample)\n"
      ],
      "metadata": {
        "id": "VNYNJlCqLHoz"
      },
      "execution_count": 9,
      "outputs": []
    },
    {
      "cell_type": "code",
      "source": [
        "x_train, x_test, y_train, y_test = train_test_split(x_sample, y_sample, test_size = 0.2)"
      ],
      "metadata": {
        "id": "iRIz534RLLRB"
      },
      "execution_count": 10,
      "outputs": []
    },
    {
      "cell_type": "code",
      "source": [
        "model = Sequential()"
      ],
      "metadata": {
        "id": "kHWbQBgNNgjN"
      },
      "execution_count": 11,
      "outputs": []
    },
    {
      "cell_type": "code",
      "source": [
        "model.add(Dense(32, activation = 'relu', input_shape = (16, )))\n",
        "model.add(Dense(16, activation='relu'))\n",
        "model.add(Dense(8, activation='relu'))\n",
        "model.add(Dense(1, activation='sigmoid'))"
      ],
      "metadata": {
        "id": "MEy3DKKZNjpE"
      },
      "execution_count": 12,
      "outputs": []
    },
    {
      "cell_type": "code",
      "source": [
        "\n",
        "model.summary()"
      ],
      "metadata": {
        "colab": {
          "base_uri": "https://localhost:8080/"
        },
        "id": "tMVk8NAkNquy",
        "outputId": "e4cda63b-231b-4a4d-a3d5-697649865a86"
      },
      "execution_count": 13,
      "outputs": [
        {
          "output_type": "stream",
          "name": "stdout",
          "text": [
            "Model: \"sequential\"\n",
            "_________________________________________________________________\n",
            " Layer (type)                Output Shape              Param #   \n",
            "=================================================================\n",
            " dense (Dense)               (None, 32)                544       \n",
            "                                                                 \n",
            " dense_1 (Dense)             (None, 16)                528       \n",
            "                                                                 \n",
            " dense_2 (Dense)             (None, 8)                 136       \n",
            "                                                                 \n",
            " dense_3 (Dense)             (None, 1)                 9         \n",
            "                                                                 \n",
            "=================================================================\n",
            "Total params: 1217 (4.75 KB)\n",
            "Trainable params: 1217 (4.75 KB)\n",
            "Non-trainable params: 0 (0.00 Byte)\n",
            "_________________________________________________________________\n"
          ]
        }
      ]
    },
    {
      "cell_type": "code",
      "source": [
        "opt = keras.optimizers.Adam(lr=0.0001)"
      ],
      "metadata": {
        "colab": {
          "base_uri": "https://localhost:8080/"
        },
        "id": "jH22dbzTNslZ",
        "outputId": "ce1d8bdf-c512-478c-b729-4fef6ea46ecc"
      },
      "execution_count": 14,
      "outputs": [
        {
          "output_type": "stream",
          "name": "stderr",
          "text": [
            "WARNING:absl:`lr` is deprecated in Keras optimizer, please use `learning_rate` or use the legacy optimizer, e.g.,tf.keras.optimizers.legacy.Adam.\n"
          ]
        }
      ]
    },
    {
      "cell_type": "code",
      "source": [
        "model.compile(optimizer= opt ,loss='binary_crossentropy',metrics=['acc'])"
      ],
      "metadata": {
        "id": "Owo8-QFBNvUB"
      },
      "execution_count": 15,
      "outputs": []
    },
    {
      "cell_type": "code",
      "source": [
        "class ModelCallback(keras.callbacks.Callback):\n",
        "    def on_epoch_end(self, epoch, logs={}):\n",
        "        # checks if the validation loss is less than 0.1\n",
        "        if(logs.get('val_loss')<0.1):\n",
        "            print(\"\\nReached 0.1 val_loss! Halting training!\")\n",
        "            self.model.stop_training = True\n",
        "\n",
        "callback = ModelCallback()"
      ],
      "metadata": {
        "id": "dHVzzXjaNx3h"
      },
      "execution_count": 16,
      "outputs": []
    },
    {
      "cell_type": "code",
      "source": [
        "history = model.fit(x_train, y_train, epochs=10,batch_size=256, callbacks=[callback],validation_data=(x_test,y_test),verbose=1)"
      ],
      "metadata": {
        "colab": {
          "base_uri": "https://localhost:8080/"
        },
        "id": "3CxEmZdjN0jZ",
        "outputId": "805b2843-b350-4e4c-81ef-e867f598c34e"
      },
      "execution_count": 17,
      "outputs": [
        {
          "output_type": "stream",
          "name": "stdout",
          "text": [
            "Epoch 1/10\n",
            "2139/2161 [============================>.] - ETA: 0s - loss: 0.1184 - acc: 0.9634\n",
            "Reached 0.1 val_loss! Halting training!\n",
            "2161/2161 [==============================] - 5s 2ms/step - loss: 0.1174 - acc: 0.9637 - val_loss: 0.0189 - val_acc: 0.9962\n"
          ]
        }
      ]
    },
    {
      "cell_type": "code",
      "source": [
        "print(history.history.keys())"
      ],
      "metadata": {
        "colab": {
          "base_uri": "https://localhost:8080/"
        },
        "id": "etYVGuSgN2-R",
        "outputId": "3cae30ba-34a6-4966-fc0e-7efd0dac9300"
      },
      "execution_count": 18,
      "outputs": [
        {
          "output_type": "stream",
          "name": "stdout",
          "text": [
            "dict_keys(['loss', 'acc', 'val_loss', 'val_acc'])\n"
          ]
        }
      ]
    },
    {
      "cell_type": "code",
      "source": [
        "pred_test = model.predict(x_test)\n",
        "for i in range (len(pred_test)):\n",
        "    if (pred_test[i] < 0.5):\n",
        "        pred_test[i] = 0\n",
        "    else:\n",
        "        pred_test[i] = 1\n",
        "pred_test = pred_test.astype(int)\n",
        "\n",
        "def view_result(array):\n",
        "    array = np.array(array)\n",
        "    for i in range(len(array)):\n",
        "        if array[i] == 0:\n",
        "            print(\"Safe\")\n",
        "        else:\n",
        "            print(\"Malicious\")\n",
        "\n",
        "print(\"PREDICTED RESULTS: \")\n",
        "view_result(pred_test[:10])\n",
        "print(\"\\n\")\n",
        "print(\"ACTUAL RESULTS: \")\n",
        "view_result(y_test[:10])"
      ],
      "metadata": {
        "colab": {
          "base_uri": "https://localhost:8080/"
        },
        "id": "tCWA0jjlN7Nh",
        "outputId": "ed015799-f04a-4081-adb8-2df2b0d76a78"
      },
      "execution_count": 19,
      "outputs": [
        {
          "output_type": "stream",
          "name": "stdout",
          "text": [
            "4322/4322 [==============================] - 5s 1ms/step\n",
            "PREDICTED RESULTS: \n",
            "Safe\n",
            "Malicious\n",
            "Safe\n",
            "Safe\n",
            "Safe\n",
            "Malicious\n",
            "Malicious\n",
            "Malicious\n",
            "Malicious\n",
            "Malicious\n",
            "\n",
            "\n",
            "ACTUAL RESULTS: \n",
            "Safe\n",
            "Malicious\n",
            "Safe\n",
            "Safe\n",
            "Safe\n",
            "Malicious\n",
            "Malicious\n",
            "Malicious\n",
            "Malicious\n",
            "Malicious\n"
          ]
        }
      ]
    },
    {
      "cell_type": "code",
      "source": [
        "model.save(\"Malicious_URL_Prediction.h5\")"
      ],
      "metadata": {
        "colab": {
          "base_uri": "https://localhost:8080/"
        },
        "id": "ognzLu3tN9wI",
        "outputId": "cbec17bc-d340-48a1-ed3b-adbbf126a02d"
      },
      "execution_count": 20,
      "outputs": [
        {
          "output_type": "stream",
          "name": "stderr",
          "text": [
            "/usr/local/lib/python3.10/dist-packages/keras/src/engine/training.py:3103: UserWarning: You are saving your model as an HDF5 file via `model.save()`. This file format is considered legacy. We recommend using instead the native Keras format, e.g. `model.save('my_model.keras')`.\n",
            "  saving_api.save_model(\n"
          ]
        }
      ]
    },
    {
      "cell_type": "code",
      "source": [
        "# Get training and validation accuracy\n",
        "train_acc = history.history['acc']\n",
        "val_acc = history.history['val_acc']\n",
        "\n",
        "# Print the last epoch's accuracy (assuming 10 epochs)\n",
        "print(\"Training Accuracy:\", train_acc[-1])\n",
        "print(\"Validation Accuracy:\", val_acc[-1])"
      ],
      "metadata": {
        "colab": {
          "base_uri": "https://localhost:8080/"
        },
        "id": "Ail_lja9OCzo",
        "outputId": "9058a3ca-a5fe-4921-d5e0-e718711cd6ee"
      },
      "execution_count": 21,
      "outputs": [
        {
          "output_type": "stream",
          "name": "stdout",
          "text": [
            "Training Accuracy: 0.9637423753738403\n",
            "Validation Accuracy: 0.9961893558502197\n"
          ]
        }
      ]
    },
    {
      "cell_type": "code",
      "source": [
        "from sklearn.metrics import precision_score, recall_score, f1_score\n",
        "\n",
        "precision = precision_score(y_test, pred_test)\n",
        "recall = recall_score(y_test, pred_test)\n",
        "f1 = f1_score(y_test, pred_test)\n",
        "\n",
        "print(\"Precision:\", precision)\n",
        "print(\"Recall:\", recall)\n",
        "print(\"F1-Score:\", f1)"
      ],
      "metadata": {
        "colab": {
          "base_uri": "https://localhost:8080/"
        },
        "id": "olOuu1V6OphW",
        "outputId": "50ce863a-d036-43aa-fa25-508de0d8bb1d"
      },
      "execution_count": 22,
      "outputs": [
        {
          "output_type": "stream",
          "name": "stdout",
          "text": [
            "Precision: 0.9975314020184419\n",
            "Recall: 0.9948299832010659\n",
            "F1-Score: 0.996178861199127\n"
          ]
        }
      ]
    },
    {
      "cell_type": "code",
      "source": [
        "from sklearn.metrics import confusion_matrix\n",
        "import seaborn as sns\n",
        "import matplotlib.pyplot as plt\n",
        "\n",
        "cm = confusion_matrix(y_test, pred_test)\n",
        "plt.figure(figsize=(8, 6))\n",
        "sns.heatmap(cm, annot=True, fmt='d')\n",
        "plt.xlabel('Predicted')\n",
        "plt.ylabel('Actual')\n",
        "plt.title('Confusion Matrix')\n",
        "plt.show()"
      ],
      "metadata": {
        "colab": {
          "base_uri": "https://localhost:8080/",
          "height": 564
        },
        "id": "BO4Zv6aGO0E1",
        "outputId": "f0bc2fc9-3255-4c47-f46f-a1456e035f5a"
      },
      "execution_count": 23,
      "outputs": [
        {
          "output_type": "display_data",
          "data": {
            "text/plain": [
              "<Figure size 800x600 with 2 Axes>"
            ],
            "image/png": "[encoded data removed]"
          },
          "metadata": {}
        }
      ]
    },
    {
      "cell_type": "code",
      "source": [
        "from sklearn.metrics import roc_curve, auc\n",
        "\n",
        "fpr, tpr, thresholds = roc_curve(y_test, pred_test)\n",
        "roc_auc = auc(fpr, tpr)\n",
        "\n",
        "plt.figure()\n",
        "plt.plot(fpr, tpr, color='darkorange', lw=2, label='ROC curve (area = %0.2f)' % roc_auc)\n",
        "plt.plot([0, 1], [0, 1], color='navy', lw=2, linestyle='--')\n",
        "plt.xlim([0.0, 1.0])\n",
        "plt.ylim([0.0, 1.05])\n",
        "plt.xlabel('False Positive Rate')\n",
        "plt.ylabel('True Positive Rate')\n",
        "plt.title('Receiver Operating Characteristic (ROC) Curve')\n",
        "plt.legend(loc=\"lower right\")\n",
        "plt.show()"
      ],
      "metadata": {
        "colab": {
          "base_uri": "https://localhost:8080/",
          "height": 472
        },
        "id": "2SRZTuL9O2yu",
        "outputId": "9e64efc7-16ba-4cf8-9150-cfbcd5a4ed60"
      },
      "execution_count": 24,
      "outputs": [
        {
          "output_type": "display_data",
          "data": {
            "text/plain": [
              "<Figure size 640x480 with 1 Axes>"
            ],
            "image/png": "[encoded data removed]"
          },
          "metadata": {}
        }
      ]
    },
    {
      "cell_type": "code",
      "source": [],
      "metadata": {
        "id": "91kmgHBnO5eF"
      },
      "execution_count": null,
      "outputs": []
    }
  ]
}